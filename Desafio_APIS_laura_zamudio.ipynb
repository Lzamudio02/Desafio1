{
 "cells": [
  {
   "cell_type": "code",
   "execution_count": 1,
   "metadata": {
    "id": "BkqEbyrrSd5D"
   },
   "outputs": [],
   "source": [
    "\n",
    "import requests\n",
    "import pandas as pd\n"
   ]
  },
  {
   "cell_type": "code",
   "execution_count": 2,
   "metadata": {
    "id": "yN5zGnx7XMNa"
   },
   "outputs": [],
   "source": [
    "#Keys\n",
    "API_KEY = \"AxxxxxxxxxxxxxxxxxI\"\n",
    "CHANNEL_ID = \"UCnJjcn5FrgrOEp5_N45ZLEQ\" #Canal con más subscriptores de yv\n",
    "video_id=\"kJQP7kiw5Fk\" #para usar de ejemplo"
   ]
  },
  {
   "cell_type": "code",
   "execution_count": 3,
   "metadata": {
    "id": "8l13hjKIdduW"
   },
   "outputs": [
    {
     "data": {
      "text/plain": [
       "200"
      ]
     },
     "execution_count": 3,
     "metadata": {},
     "output_type": "execute_result"
    }
   ],
   "source": [
    "\n",
    "\n",
    "url = \"https://www.googleapis.com/youtube/v3/search?key=\"+API_KEY+\"&channelId=\"+CHANNEL_ID+\"&part=snippet,id&order=date&maxResults=10000&\"\n",
    "r = requests.get(url)\n",
    "r.status_code"
   ]
  },
  {
   "cell_type": "code",
   "execution_count": 4,
   "metadata": {
    "id": "PuvL2HsqoJ8J"
   },
   "outputs": [],
   "source": [
    "r=r.json()"
   ]
  },
  {
   "cell_type": "code",
   "execution_count": 5,
   "metadata": {},
   "outputs": [
    {
     "data": {
      "text/plain": [
       "{'kind': 'youtube#searchResult',\n",
       " 'etag': 'Zme7zZT6W9kXsJJBmvOqlwISJMY',\n",
       " 'id': {'kind': 'youtube#video', 'videoId': 'A4XMVTFmKuU'},\n",
       " 'snippet': {'publishedAt': '2023-05-17T03:48:00Z',\n",
       "  'channelId': 'UCnJjcn5FrgrOEp5_N45ZLEQ',\n",
       "  'title': 'Sayyata Vidhi Sayyata Promo Song | Annapoorna Photo Studio | Chaitanya,Lavanya |Prince Henry |Yash R',\n",
       "  'description': 'T-Series Telugu presents Sayyata Vidhi Sayyata Promo Song from Annapoorna Photo Studio New Telugu Movie starring ...',\n",
       "  'thumbnails': {'default': {'url': 'https://i.ytimg.com/vi/A4XMVTFmKuU/default.jpg',\n",
       "    'width': 120,\n",
       "    'height': 90},\n",
       "   'medium': {'url': 'https://i.ytimg.com/vi/A4XMVTFmKuU/mqdefault.jpg',\n",
       "    'width': 320,\n",
       "    'height': 180},\n",
       "   'high': {'url': 'https://i.ytimg.com/vi/A4XMVTFmKuU/hqdefault.jpg',\n",
       "    'width': 480,\n",
       "    'height': 360}},\n",
       "  'channelTitle': 'T-Series Telugu',\n",
       "  'liveBroadcastContent': 'none',\n",
       "  'publishTime': '2023-05-17T03:48:00Z'}}"
      ]
     },
     "execution_count": 5,
     "metadata": {},
     "output_type": "execute_result"
    }
   ],
   "source": [
    "r[\"items\"][0] "
   ]
  },
  {
   "cell_type": "code",
   "execution_count": 6,
   "metadata": {},
   "outputs": [
    {
     "ename": "NameError",
     "evalue": "name 'url_video_stats' is not defined",
     "output_type": "error",
     "traceback": [
      "\u001b[1;31m---------------------------------------------------------------------------\u001b[0m",
      "\u001b[1;31mNameError\u001b[0m                                 Traceback (most recent call last)",
      "\u001b[1;32m<ipython-input-6-a4934e2e1f48>\u001b[0m in \u001b[0;36m<module>\u001b[1;34m\u001b[0m\n\u001b[0;32m      1\u001b[0m \u001b[0murl_video\u001b[0m \u001b[1;33m=\u001b[0m \u001b[1;34m\"https://www.googleapis.com/youtube/v3/videos?id=\"\u001b[0m\u001b[1;33m+\u001b[0m\u001b[0mvideo_id\u001b[0m\u001b[1;33m+\u001b[0m\u001b[1;34m\"&part=statistics&key=\"\u001b[0m\u001b[1;33m+\u001b[0m\u001b[0mAPI_KEY\u001b[0m\u001b[1;33m\u001b[0m\u001b[1;33m\u001b[0m\u001b[0m\n\u001b[1;32m----> 2\u001b[1;33m \u001b[0mstats\u001b[0m \u001b[1;33m=\u001b[0m \u001b[0mrequests\u001b[0m\u001b[1;33m.\u001b[0m\u001b[0mget\u001b[0m\u001b[1;33m(\u001b[0m\u001b[0murl_video_stats\u001b[0m\u001b[1;33m)\u001b[0m\u001b[1;33m.\u001b[0m\u001b[0mjson\u001b[0m\u001b[1;33m(\u001b[0m\u001b[1;33m)\u001b[0m\u001b[1;33m\u001b[0m\u001b[1;33m\u001b[0m\u001b[0m\n\u001b[0m\u001b[0;32m      3\u001b[0m \u001b[0mstats\u001b[0m\u001b[1;33m\u001b[0m\u001b[1;33m\u001b[0m\u001b[0m\n",
      "\u001b[1;31mNameError\u001b[0m: name 'url_video_stats' is not defined"
     ]
    }
   ],
   "source": [
    "url_video = \"https://www.googleapis.com/youtube/v3/videos?id=\"+video_id+\"&part=statistics&key=\"+API_KEY\n",
    "stats = requests.get(url_video_stats).json()\n",
    "stats"
   ]
  },
  {
   "cell_type": "code",
   "execution_count": null,
   "metadata": {},
   "outputs": [],
   "source": [
    "df = pd.DataFrame(columns=[\"video_id\",\"video_title\",\"publicacion\",\"vistas\",\"likes\",\"comment_count\"]) \n",
    "\n",
    "for video in r['items']:\n",
    "            if video['id']['kind'] == \"youtube#video\":\n",
    "                video_id = video['id']['videoId']\n",
    "                \n",
    "                titulo = video['snippet']['title']\n",
    "                \n",
    "                publicacion = video['snippet']['publishedAt']\n",
    "              \n",
    "                \n",
    "                url_video = \"https://www.googleapis.com/youtube/v3/videos?id=\"+video_id+\"&part=statistics&key=\"+API_KEY\n",
    "                stats = requests.get(url_video).json()\n",
    "                \n",
    "                vistas = stats['items'][0]['statistics']['viewCount']\n",
    "                likes = stats['items'][0]['statistics']['likeCount']\n",
    "                comment_count = stats['items'][0]['statistics']['commentCount']\n",
    "\n",
    "\n",
    "                df = df.append({'video_id':video_id,'video_title':titulo,\n",
    "                                \"publicacion\":publicacion,\"vistas\":vistas,\n",
    "                                \"likes\":likes,\n",
    "                                \"comment_count\":comment_count},ignore_index=True)\n",
    " \n",
    "\n"
   ]
  },
  {
   "cell_type": "code",
   "execution_count": null,
   "metadata": {
    "id": "v1NMEFet6kRC"
   },
   "outputs": [],
   "source": [
    "df"
   ]
  },
  {
   "cell_type": "code",
   "execution_count": null,
   "metadata": {
    "colab": {
     "base_uri": "https://localhost:8080/",
     "height": 419
    },
    "id": "laI5tSLSvkSx",
    "outputId": "2a575507-d2d6-4668-807a-a401a800b154"
   },
   "outputs": [],
   "source": [
    "df.to_csv('youtube.csv')"
   ]
  },
  {
   "cell_type": "code",
   "execution_count": null,
   "metadata": {
    "id": "t8laAmHlY7Qw"
   },
   "outputs": [],
   "source": []
  },
  {
   "cell_type": "code",
   "execution_count": null,
   "metadata": {
    "id": "DH7hfKCvZDLi"
   },
   "outputs": [],
   "source": []
  }
 ],
 "metadata": {
  "colab": {
   "name": "extracting_data_from_youtube_api.ipynb",
   "provenance": []
  },
  "kernelspec": {
   "display_name": "Python 3",
   "language": "python",
   "name": "python3"
  },
  "language_info": {
   "codemirror_mode": {
    "name": "ipython",
    "version": 3
   },
   "file_extension": ".py",
   "mimetype": "text/x-python",
   "name": "python",
   "nbconvert_exporter": "python",
   "pygments_lexer": "ipython3",
   "version": "3.7.6"
  }
 },
 "nbformat": 4,
 "nbformat_minor": 1
}
